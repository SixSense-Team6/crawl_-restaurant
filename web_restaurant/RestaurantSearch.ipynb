{
 "cells": [
  {
   "cell_type": "code",
   "execution_count": 2,
   "metadata": {},
   "outputs": [],
   "source": [
    "from selenium import webdriver\n",
    "from selenium.webdriver.chrome.service import Service\n",
    "from webdriver_manager.chrome import ChromeDriverManager\n",
    "from selenium.webdriver.common.by import By\n",
    "from selenium.webdriver.common.action_chains import ActionChains\n",
    "import time"
   ]
  },
  {
   "cell_type": "markdown",
   "metadata": {},
   "source": [
    "- 2라운드 진출 식당 46곳 스크롤 내리면서 페이지 들락날락 하는 코드입니다. 필요에 맞게 변형해서 사용하시면 됩니다!"
   ]
  },
  {
   "cell_type": "code",
   "execution_count": 3,
   "metadata": {},
   "outputs": [
    {
     "name": "stdout",
     "output_type": "stream",
     "text": [
      "New restaurant found: 로컬릿x스텔라 고메데이\n",
      "New restaurant found: 리북방x스텔라 고메데이\n",
      "New restaurant found: 비아톨레도 파스타바\n",
      "New restaurant found: 디핀 deepin\n",
      "New restaurant found: 트리드 (trid)\n",
      "New restaurant found: 디핀 옥수\n",
      "New restaurant found: 식당네오\n",
      "New restaurant found: CHOI. 쵸이닷\n",
      "visited: 로컬릿x스텔라 고메데이\n",
      "visited: 리북방x스텔라 고메데이\n",
      "visited: 비아톨레도 파스타바\n"
     ]
    },
    {
     "ename": "KeyboardInterrupt",
     "evalue": "",
     "output_type": "error",
     "traceback": [
      "\u001b[0;31m---------------------------------------------------------------------------\u001b[0m",
      "\u001b[0;31mKeyboardInterrupt\u001b[0m                         Traceback (most recent call last)",
      "Cell \u001b[0;32mIn[3], line 74\u001b[0m\n\u001b[1;32m     70\u001b[0m         prev_height \u001b[38;5;241m=\u001b[39m new_height\n\u001b[1;32m     73\u001b[0m \u001b[38;5;66;03m# 메인 실행\u001b[39;00m\n\u001b[0;32m---> 74\u001b[0m \u001b[43mfind_and_visit_new_restaurants\u001b[49m\u001b[43m(\u001b[49m\u001b[43m)\u001b[49m\n\u001b[1;32m     77\u001b[0m \u001b[38;5;66;03m# 브라우저 종료\u001b[39;00m\n\u001b[1;32m     78\u001b[0m driver\u001b[38;5;241m.\u001b[39mquit()\n",
      "Cell \u001b[0;32mIn[3], line 59\u001b[0m, in \u001b[0;36mfind_and_visit_new_restaurants\u001b[0;34m()\u001b[0m\n\u001b[1;32m     57\u001b[0m \u001b[38;5;66;03m# 새로 발견한 식당 방문\u001b[39;00m\n\u001b[1;32m     58\u001b[0m \u001b[38;5;28;01mfor\u001b[39;00m restaurant \u001b[38;5;129;01min\u001b[39;00m new_restaurants:\n\u001b[0;32m---> 59\u001b[0m     \u001b[43mscroll_and_find_restaurant\u001b[49m\u001b[43m(\u001b[49m\u001b[43mrestaurant\u001b[49m\u001b[43m)\u001b[49m\n\u001b[1;32m     61\u001b[0m \u001b[38;5;66;03m# 스크롤 다운\u001b[39;00m\n\u001b[1;32m     62\u001b[0m down_height \u001b[38;5;241m=\u001b[39m prev_height \u001b[38;5;241m+\u001b[39m \u001b[38;5;241m1500\u001b[39m \u001b[38;5;66;03m# 아래로 1500만큼 스크롤\u001b[39;00m\n",
      "Cell \u001b[0;32mIn[3], line 23\u001b[0m, in \u001b[0;36mscroll_and_find_restaurant\u001b[0;34m(target_text)\u001b[0m\n\u001b[1;32m     21\u001b[0m \u001b[38;5;28;01mif\u001b[39;00m element\u001b[38;5;241m.\u001b[39mtext \u001b[38;5;241m==\u001b[39m target_text:\n\u001b[1;32m     22\u001b[0m     element\u001b[38;5;241m.\u001b[39mclick()  \u001b[38;5;66;03m# 해당 식당 클릭\u001b[39;00m\n\u001b[0;32m---> 23\u001b[0m     \u001b[43mtime\u001b[49m\u001b[38;5;241;43m.\u001b[39;49m\u001b[43msleep\u001b[49m\u001b[43m(\u001b[49m\u001b[38;5;241;43m2\u001b[39;49m\u001b[43m)\u001b[49m  \u001b[38;5;66;03m# 페이지 로딩 대기\u001b[39;00m\n\u001b[1;32m     24\u001b[0m     \u001b[38;5;28mprint\u001b[39m(\u001b[38;5;124mf\u001b[39m\u001b[38;5;124m\"\u001b[39m\u001b[38;5;124mvisited: \u001b[39m\u001b[38;5;132;01m{\u001b[39;00mtarget_text\u001b[38;5;132;01m}\u001b[39;00m\u001b[38;5;124m\"\u001b[39m)\n\u001b[1;32m     25\u001b[0m     driver\u001b[38;5;241m.\u001b[39mback()  \u001b[38;5;66;03m# 뒤로 가기\u001b[39;00m\n",
      "\u001b[0;31mKeyboardInterrupt\u001b[0m: "
     ]
    }
   ],
   "source": [
    "# 웹드라이버 설정 및 페이지 열기\n",
    "driver = webdriver.Chrome(service=Service(ChromeDriverManager().install()))\n",
    "driver.get(\"https://app.catchtable.co.kr/ct/curation/culinaryclasswars?tabIndex=0&currentExhibitionKey=classwars-all&isUseExhibitionFilter=1&hasShopRefsFromClient=1&curationQuickFilterKey=2&serviceType=INTEGRATION&uniqueListId=1728841646438&metaContractedType=0&sortMethod=recommended&centerBoundsLat=35.60447951909298&centerBoundsLng=127.62260840243572&zoomLevel=13&isNewSearchInMap=1\")\n",
    "\n",
    "# 페이지 로딩 대기\n",
    "time.sleep(2)\n",
    "\n",
    "visited_restaurants = []  # 방문한 식당 텍스트 저장\n",
    "\n",
    "\n",
    "def scroll_and_find_restaurant(target_text):\n",
    "    \"\"\"스크롤을 내리며 특정 식당을 찾아 클릭\"\"\"\n",
    "    prev_height = 0\n",
    "\n",
    "    while True:\n",
    "        # 현재 페이지의 모든 식당 요소 가져오기\n",
    "        elements = driver.find_elements(By.CLASS_NAME, \"ShopListItem_title__1p45wh65.app_typo_headline_h2__jg3o1w1a\")\n",
    "\n",
    "        # 식당을 찾아 클릭\n",
    "        for element in elements:\n",
    "            if element.text == target_text:\n",
    "                element.click()  # 해당 식당 클릭\n",
    "                time.sleep(2)  # 페이지 로딩 대기\n",
    "                print(f\"visited: {target_text}\")\n",
    "                driver.back()  # 뒤로 가기\n",
    "                time.sleep(2)  # 페이지 로딩 대기\n",
    "                return  # 함수 종료\n",
    "\n",
    "        # 스크롤 다운\n",
    "        down_height = prev_height + 1500\n",
    "        driver.execute_script(f\"window.scrollTo(0, {down_height});\")\n",
    "        time.sleep(1)  # 스크롤 후 페이지 로딩 대기\n",
    "\n",
    "        # 스크롤 종료 조건 확인\n",
    "        new_height = driver.execute_script(\"return window.scrollY\")\n",
    "        if new_height == prev_height:\n",
    "            print(f\"Could not find: {target_text}\")\n",
    "            break  # 더 이상 스크롤되지 않으면 종료\n",
    "        prev_height = new_height\n",
    "\n",
    "\n",
    "def find_and_visit_new_restaurants():\n",
    "    \"\"\"스크롤하며 새로운 식당을 찾고 방문\"\"\"\n",
    "    prev_height = 0\n",
    "\n",
    "    while True:\n",
    "        elements = driver.find_elements(By.CLASS_NAME, \"ShopListItem_title__1p45wh65.app_typo_headline_h2__jg3o1w1a\")\n",
    "\n",
    "        new_restaurants = []\n",
    "        for element in elements:\n",
    "            text = element.text\n",
    "            if text not in visited_restaurants:  # 중복 방지\n",
    "                print(f\"New restaurant found: {text}\")\n",
    "                visited_restaurants.append(text)\n",
    "                new_restaurants.append(text)\n",
    "\n",
    "        # 새로 발견한 식당 방문\n",
    "        for restaurant in new_restaurants:\n",
    "            scroll_and_find_restaurant(restaurant)\n",
    "\n",
    "        # 스크롤 다운\n",
    "        down_height = prev_height + 1500 # 아래로 1500만큼 스크롤\n",
    "        driver.execute_script(f\"window.scrollTo(0, {down_height});\")\n",
    "        time.sleep(1)  # 스크롤 후 페이지 로딩 대기\n",
    "\n",
    "        # 스크롤 종료 조건 확인\n",
    "        new_height = driver.execute_script(\"return window.scrollY\")\n",
    "        if new_height == prev_height:\n",
    "            break  # 더 이상 스크롤되지 않으면 종료\n",
    "        prev_height = new_height\n",
    "\n",
    "\n",
    "# 메인 실행\n",
    "find_and_visit_new_restaurants()\n",
    "\n",
    "\n",
    "# 브라우저 종료\n",
    "driver.quit()"
   ]
  }
 ],
 "metadata": {
  "kernelspec": {
   "display_name": "base",
   "language": "python",
   "name": "python3"
  },
  "language_info": {
   "codemirror_mode": {
    "name": "ipython",
    "version": 3
   },
   "file_extension": ".py",
   "mimetype": "text/x-python",
   "name": "python",
   "nbconvert_exporter": "python",
   "pygments_lexer": "ipython3",
   "version": "3.10.15"
  }
 },
 "nbformat": 4,
 "nbformat_minor": 2
}
