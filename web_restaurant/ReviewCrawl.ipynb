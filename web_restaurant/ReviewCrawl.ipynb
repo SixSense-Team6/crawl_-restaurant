{
 "cells": [
  {
   "cell_type": "code",
   "execution_count": 1,
   "metadata": {},
   "outputs": [],
   "source": [
    "import os\n",
    "import django\n",
    "import re\n",
    "\n",
    "from selenium import webdriver\n",
    "from selenium.webdriver.common.by import By\n",
    "from selenium.webdriver.common.keys import Keys\n",
    "from selenium.webdriver.chrome.service import Service\n",
    "from selenium.webdriver.chrome.options import Options\n",
    "from selenium.webdriver.support.ui import WebDriverWait\n",
    "from selenium.webdriver.support import expected_conditions as EC\n",
    "from webdriver_manager.chrome import ChromeDriverManager\n",
    "from selenium.webdriver.common.action_chains import ActionChains\n",
    "import time"
   ]
  },
  {
   "cell_type": "code",
   "execution_count": 2,
   "metadata": {},
   "outputs": [],
   "source": [
    "os.environ.setdefault('DJANGO_SETTINGS_MODULE', 'web_restaurant.settings')\n",
    "django.setup()"
   ]
  },
  {
   "cell_type": "code",
   "execution_count": 5,
   "metadata": {},
   "outputs": [
    {
     "ename": "KeyboardInterrupt",
     "evalue": "",
     "output_type": "error",
     "traceback": [
      "\u001b[0;31m---------------------------------------------------------------------------\u001b[0m",
      "\u001b[0;31mKeyboardInterrupt\u001b[0m                         Traceback (most recent call last)",
      "Cell \u001b[0;32mIn[5], line 34\u001b[0m\n\u001b[1;32m     31\u001b[0m         last_height \u001b[38;5;241m=\u001b[39m new_height\n\u001b[1;32m     33\u001b[0m \u001b[38;5;66;03m# 스크롤을 끝까지 내림\u001b[39;00m\n\u001b[0;32m---> 34\u001b[0m \u001b[43mscroll_to_bottom\u001b[49m\u001b[43m(\u001b[49m\u001b[43m)\u001b[49m\n\u001b[1;32m     36\u001b[0m \u001b[38;5;66;03m# <br> 태그 제거 함수\u001b[39;00m\n\u001b[1;32m     37\u001b[0m \u001b[38;5;28;01mdef\u001b[39;00m \u001b[38;5;21mclean_review_text\u001b[39m(text):\n",
      "Cell \u001b[0;32mIn[5], line 25\u001b[0m, in \u001b[0;36mscroll_to_bottom\u001b[0;34m()\u001b[0m\n\u001b[1;32m     22\u001b[0m \u001b[38;5;28;01mwhile\u001b[39;00m \u001b[38;5;28;01mTrue\u001b[39;00m:\n\u001b[1;32m     23\u001b[0m     \u001b[38;5;66;03m# 끝까지 스크롤\u001b[39;00m\n\u001b[1;32m     24\u001b[0m     driver\u001b[38;5;241m.\u001b[39mexecute_script(\u001b[38;5;124m\"\u001b[39m\u001b[38;5;124mwindow.scrollTo(0, document.body.scrollHeight);\u001b[39m\u001b[38;5;124m\"\u001b[39m)\n\u001b[0;32m---> 25\u001b[0m     \u001b[43mtime\u001b[49m\u001b[38;5;241;43m.\u001b[39;49m\u001b[43msleep\u001b[49m\u001b[43m(\u001b[49m\u001b[38;5;241;43m2\u001b[39;49m\u001b[43m)\u001b[49m  \u001b[38;5;66;03m# 스크롤 후 대기 시간\u001b[39;00m\n\u001b[1;32m     27\u001b[0m     \u001b[38;5;66;03m# 새로운 높이 계산 후 비교\u001b[39;00m\n\u001b[1;32m     28\u001b[0m     new_height \u001b[38;5;241m=\u001b[39m driver\u001b[38;5;241m.\u001b[39mexecute_script(\u001b[38;5;124m\"\u001b[39m\u001b[38;5;124mreturn document.body.scrollHeight\u001b[39m\u001b[38;5;124m\"\u001b[39m)\n",
      "\u001b[0;31mKeyboardInterrupt\u001b[0m: "
     ]
    }
   ],
   "source": [
    "from restaurant.models import Restaurant, Review, Chef\n",
    "\n",
    "# Chrome 드라이버 설정\n",
    "options = Options()\n",
    "options.add_argument(\"--headless\")  # 브라우저 창을 띄우지 않고 실행\n",
    "options.add_argument(\"--no-sandbox\")\n",
    "options.add_argument(\"--disable-dev-shm-usage\")\n",
    "\n",
    "# 비동기 코드에서 ORM 호출 허용\n",
    "os.environ[\"DJANGO_ALLOW_ASYNC_UNSAFE\"] = \"true\"\n",
    "\n",
    "driver = webdriver.Chrome(service=Service(ChromeDriverManager().install()), options=options)\n",
    "driver.get('https://app.catchtable.co.kr/ct/shop/neo_/review?type=DINING&sortingFilter=L')\n",
    "\n",
    "\n",
    "# 페이지가 로딩될 시간을 기다림\n",
    "time.sleep(3)\n",
    "\n",
    "# 페이지 스크롤 함수\n",
    "def scroll_to_bottom():\n",
    "    last_height = driver.execute_script(\"return document.body.scrollHeight\")\n",
    "    while True:\n",
    "        # 끝까지 스크롤\n",
    "        driver.execute_script(\"window.scrollTo(0, document.body.scrollHeight);\")\n",
    "        time.sleep(2)  # 스크롤 후 대기 시간\n",
    "\n",
    "        # 새로운 높이 계산 후 비교\n",
    "        new_height = driver.execute_script(\"return document.body.scrollHeight\")\n",
    "        if new_height == last_height:\n",
    "            break  # 스크롤이 더 이상 불가능할 때 종료\n",
    "        last_height = new_height\n",
    "\n",
    "# 스크롤을 끝까지 내림\n",
    "scroll_to_bottom()\n",
    "\n",
    "# <br> 태그 제거 함수\n",
    "def clean_review_text(text):\n",
    "    return re.sub(r'<br\\s*/?>', '\\n', text)  # <br>을 줄바꿈으로 변환\n",
    "\n",
    "# 평점과 리뷰 내용 수집\n",
    "reviews = []\n",
    "try:\n",
    "    WebDriverWait(driver, 10).until(\n",
    "        EC.presence_of_all_elements_located((By.CLASS_NAME, \"_10fm75h6\"))\n",
    "    )\n",
    "    # 모든 평점과 리뷰 요소를 찾음\n",
    "    ratings = driver.find_elements(By.CLASS_NAME, \"_10fm75h6\")\n",
    "    contents = driver.find_elements(By.CLASS_NAME, \"review-content\")\n",
    "\n",
    "    for rating, content in zip(ratings, contents):\n",
    "        # rating 값 정수로 버림\n",
    "        rating_value = float(rating.text)\n",
    "        review_type = 'good' if rating_value == 5 else 'bad'\n",
    "        review_text = clean_review_text(content.get_attribute(\"innerHTML\").strip())\n",
    "\n",
    "        review_data = {\n",
    "            \"rating\": review_type,\n",
    "            \"content\": review_text\n",
    "        }\n",
    "        reviews.append(review_data)\n",
    "\n",
    "except Exception as e:\n",
    "    print(f\"오류 발생: {e}\")\n",
    "\n",
    "\n",
    "\n",
    "\n",
    "restaurant_name = '식당네오'\n",
    "\n",
    "# test용 셰프, 식당 생성 코드 (추후 삭제)\n",
    "chef, created = Chef.objects.get_or_create(chef_name = '최강록', defaults={'image_url': \"./최강록.jpeg\"})\n",
    "restaurant = Restaurant.objects.create(restaurant_name=restaurant_name, chef=chef)\n",
    "\n",
    "\n",
    "# 원래는 이 부분 활성화\n",
    "# restaurant = Restaurant.objects.get(restaurant_name=restaurant_name)\n",
    "\n",
    "\n",
    "# 리뷰 저장\n",
    "for review in reviews:\n",
    "    Review.objects.create(\n",
    "        restaurant=restaurant,\n",
    "        review_text=review['content'],\n",
    "        review_category=review['rating']\n",
    "    )\n",
    "    # 평점, 리뷰 출력\n",
    "    print(f\"평점: {review['rating']}\")\n",
    "    print(f\"리뷰: {review['content']}\")\n",
    "\n",
    "print(\"리뷰 저장 완료\")\n",
    "\n",
    "# 드라이버 종료\n",
    "driver.quit()\n",
    "\n"
   ]
  },
  {
   "cell_type": "code",
   "execution_count": 24,
   "metadata": {},
   "outputs": [
    {
     "name": "stdout",
     "output_type": "stream",
     "text": [
      "<class 'restaurant.models.Review'>\n"
     ]
    }
   ],
   "source": [
    "from restaurant.models import Review\n",
    "print(Review)"
   ]
  }
 ],
 "metadata": {
  "kernelspec": {
   "display_name": "base",
   "language": "python",
   "name": "python3"
  },
  "language_info": {
   "codemirror_mode": {
    "name": "ipython",
    "version": 3
   },
   "file_extension": ".py",
   "mimetype": "text/x-python",
   "name": "python",
   "nbconvert_exporter": "python",
   "pygments_lexer": "ipython3",
   "version": "3.10.15"
  }
 },
 "nbformat": 4,
 "nbformat_minor": 2
}
